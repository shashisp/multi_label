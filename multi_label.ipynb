{
 "cells": [
  {
   "cell_type": "code",
   "execution_count": 3,
   "metadata": {},
   "outputs": [],
   "source": [
    "import os\n",
    "import csv\n",
    "import pandas as pd\n",
    "import numpy as np\n",
    "import matplotlib.pyplot as plt\n",
    "import seaborn as sns"
   ]
  },
  {
   "cell_type": "code",
   "execution_count": 4,
   "metadata": {},
   "outputs": [],
   "source": [
    "from IPython.display import Markdown, display\n",
    "def printmd(string):\n",
    "    display(Markdown(string))\n",
    "#printmd('**bold**')"
   ]
  },
  {
   "cell_type": "code",
   "execution_count": 5,
   "metadata": {},
   "outputs": [],
   "source": [
    "data_path = \"test_data_set.csv\""
   ]
  },
  {
   "cell_type": "code",
   "execution_count": 6,
   "metadata": {},
   "outputs": [],
   "source": [
    "data_raw = pd.read_csv(data_path)"
   ]
  },
  {
   "cell_type": "code",
   "execution_count": 7,
   "metadata": {},
   "outputs": [
    {
     "data": {
      "text/plain": [
       "(949, 5)"
      ]
     },
     "execution_count": 7,
     "metadata": {},
     "output_type": "execute_result"
    }
   ],
   "source": [
    "data_raw.shape"
   ]
  },
  {
   "cell_type": "code",
   "execution_count": 8,
   "metadata": {},
   "outputs": [
    {
     "name": "stdout",
     "output_type": "stream",
     "text": [
      "Number of rows in data = 949\n",
      "Number of columns in data = 5\n",
      "\n",
      "\n"
     ]
    },
    {
     "data": {
      "text/markdown": [
       "**Sample data:**"
      ],
      "text/plain": [
       "<IPython.core.display.Markdown object>"
      ]
     },
     "metadata": {},
     "output_type": "display_data"
    },
    {
     "data": {
      "text/html": [
       "<div>\n",
       "<style scoped>\n",
       "    .dataframe tbody tr th:only-of-type {\n",
       "        vertical-align: middle;\n",
       "    }\n",
       "\n",
       "    .dataframe tbody tr th {\n",
       "        vertical-align: top;\n",
       "    }\n",
       "\n",
       "    .dataframe thead th {\n",
       "        text-align: right;\n",
       "    }\n",
       "</style>\n",
       "<table border=\"1\" class=\"dataframe\">\n",
       "  <thead>\n",
       "    <tr style=\"text-align: right;\">\n",
       "      <th></th>\n",
       "      <th>Title</th>\n",
       "      <th>Tags</th>\n",
       "      <th>Content</th>\n",
       "      <th>Unnamed: 3</th>\n",
       "      <th>Unnamed: 4</th>\n",
       "    </tr>\n",
       "  </thead>\n",
       "  <tbody>\n",
       "    <tr>\n",
       "      <th>0</th>\n",
       "      <td>Two Sum</td>\n",
       "      <td>Array,Hashtable</td>\n",
       "      <td>Given an array of integers, return indices of ...</td>\n",
       "      <td>NaN</td>\n",
       "      <td>Dynamic Programming</td>\n",
       "    </tr>\n",
       "    <tr>\n",
       "      <th>1</th>\n",
       "      <td>Add Two Numbers</td>\n",
       "      <td>Linked list ,Math</td>\n",
       "      <td>You are given two non-empty linked lists repre...</td>\n",
       "      <td>NaN</td>\n",
       "      <td>String</td>\n",
       "    </tr>\n",
       "    <tr>\n",
       "      <th>2</th>\n",
       "      <td>Longest Substring Without Repeating Characters...</td>\n",
       "      <td>Hash Table,Two pointers,String</td>\n",
       "      <td>Given a string, find the length of the longest...</td>\n",
       "      <td>NaN</td>\n",
       "      <td>Math</td>\n",
       "    </tr>\n",
       "    <tr>\n",
       "      <th>3</th>\n",
       "      <td>Median of Two Sorted Arrays</td>\n",
       "      <td>Array, Binary Search, Divide and Conquer</td>\n",
       "      <td>There are two sorted arrays nums1 and nums2 of...</td>\n",
       "      <td>NaN</td>\n",
       "      <td>Tree</td>\n",
       "    </tr>\n",
       "    <tr>\n",
       "      <th>4</th>\n",
       "      <td>Longest Palindromic Substring</td>\n",
       "      <td>String, Dynamic Programming</td>\n",
       "      <td>Given a string s, find the longest palindromic...</td>\n",
       "      <td>NaN</td>\n",
       "      <td>Hash Table</td>\n",
       "    </tr>\n",
       "  </tbody>\n",
       "</table>\n",
       "</div>"
      ],
      "text/plain": [
       "                                               Title  \\\n",
       "0                                        Two Sum       \n",
       "1                                Add Two Numbers       \n",
       "2  Longest Substring Without Repeating Characters...   \n",
       "3                    Median of Two Sorted Arrays       \n",
       "4                  Longest Palindromic Substring       \n",
       "\n",
       "                                       Tags  \\\n",
       "0                           Array,Hashtable   \n",
       "1                         Linked list ,Math   \n",
       "2            Hash Table,Two pointers,String   \n",
       "3  Array, Binary Search, Divide and Conquer   \n",
       "4               String, Dynamic Programming   \n",
       "\n",
       "                                             Content  Unnamed: 3  \\\n",
       "0  Given an array of integers, return indices of ...         NaN   \n",
       "1  You are given two non-empty linked lists repre...         NaN   \n",
       "2  Given a string, find the length of the longest...         NaN   \n",
       "3  There are two sorted arrays nums1 and nums2 of...         NaN   \n",
       "4  Given a string s, find the longest palindromic...         NaN   \n",
       "\n",
       "             Unnamed: 4  \n",
       "0  Dynamic Programming   \n",
       "1                String  \n",
       "2                  Math  \n",
       "3                  Tree  \n",
       "4            Hash Table  "
      ]
     },
     "execution_count": 8,
     "metadata": {},
     "output_type": "execute_result"
    }
   ],
   "source": [
    "print(\"Number of rows in data =\",data_raw.shape[0])\n",
    "print(\"Number of columns in data =\",data_raw.shape[1])\n",
    "print(\"\\n\")\n",
    "printmd(\"**Sample data:**\")\n",
    "data_raw.head()"
   ]
  },
  {
   "cell_type": "code",
   "execution_count": 10,
   "metadata": {},
   "outputs": [
    {
     "name": "stdout",
     "output_type": "stream",
     "text": [
      "Title           0\n",
      "Tags           70\n",
      "Content         6\n",
      "Unnamed: 3    949\n",
      "Unnamed: 4    914\n",
      "dtype: int64\n"
     ]
    }
   ],
   "source": [
    "missing_values_check = data_raw.isnull().sum()\n",
    "print(missing_values_check)"
   ]
  },
  {
   "cell_type": "code",
   "execution_count": 12,
   "metadata": {},
   "outputs": [
    {
     "name": "stdout",
     "output_type": "stream",
     "text": [
      "Total number of comments =  949\n",
      "Number of clean comments =  949\n",
      "Number of comments with labels = 0\n"
     ]
    }
   ],
   "source": [
    "rowSums = data_raw.iloc[:,2:].sum(axis=1)\n",
    "clean_comments_count = (rowSums==0).sum(axis=0)\n",
    "\n",
    "print(\"Total number of comments = \",len(data_raw))\n",
    "print(\"Number of clean comments = \",clean_comments_count)\n",
    "print(\"Number of comments with labels =\",(len(data_raw)-clean_comments_count))"
   ]
  },
  {
   "cell_type": "code",
   "execution_count": null,
   "metadata": {},
   "outputs": [],
   "source": []
  }
 ],
 "metadata": {
  "kernelspec": {
   "display_name": "Python 3",
   "language": "python",
   "name": "python3"
  },
  "language_info": {
   "codemirror_mode": {
    "name": "ipython",
    "version": 3
   },
   "file_extension": ".py",
   "mimetype": "text/x-python",
   "name": "python",
   "nbconvert_exporter": "python",
   "pygments_lexer": "ipython3",
   "version": "3.6.7"
  }
 },
 "nbformat": 4,
 "nbformat_minor": 2
}
